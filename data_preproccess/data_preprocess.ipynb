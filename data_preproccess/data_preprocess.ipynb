{
 "cells": [
  {
   "cell_type": "code",
   "execution_count": 1,
   "metadata": {},
   "outputs": [
    {
     "name": "stderr",
     "output_type": "stream",
     "text": [
      "C:\\Users\\tomoka\\Anaconda3\\lib\\site-packages\\gensim\\utils.py:1197: UserWarning: detected Windows; aliasing chunkize to chunkize_serial\n",
      "  warnings.warn(\"detected Windows; aliasing chunkize to chunkize_serial\")\n"
     ]
    }
   ],
   "source": [
    "import sys\n",
    "sys.path.append('../')\n",
    "import pandas as pd\n",
    "from utils import TextUtil, WordEmbeddingUtil\n",
    "import nltk\n",
    "from nltk.stem import WordNetLemmatizer\n",
    "from nltk.corpus import wordnet\n",
    "from nltk import word_tokenize, pos_tag\n",
    "from nltk.stem import WordNetLemmatizer\n",
    "import pickle\n",
    "import tqdm\n",
    "from config import Config\n",
    "import numpy as np"
   ]
  },
  {
   "cell_type": "code",
   "execution_count": 15,
   "metadata": {},
   "outputs": [],
   "source": [
    "df = pd.read_excel('../data/train_sub.xlsx')\n",
    "# df = pd.read_csv('../data/train.csv')"
   ]
  },
  {
   "cell_type": "code",
   "execution_count": 3,
   "metadata": {},
   "outputs": [],
   "source": [
    "text_util = TextUtil()"
   ]
  },
  {
   "cell_type": "code",
   "execution_count": 18,
   "metadata": {},
   "outputs": [],
   "source": [
    "# get train label\n",
    "np.save('../data/train_label.npy', df.target.values)"
   ]
  },
  {
   "cell_type": "code",
   "execution_count": 4,
   "metadata": {},
   "outputs": [
    {
     "name": "stderr",
     "output_type": "stream",
     "text": [
      "100%|██████████████████████████████████████████████████████████████████████████████| 301/301 [00:00<00:00, 5784.80it/s]\n"
     ]
    }
   ],
   "source": [
    "# text normalization\n",
    "question_text_np_array = df.question_text.values\n",
    "for idx, row in enumerate(tqdm.tqdm(question_text_np_array)):\n",
    "    question_text_np_array[idx] = text_util.text_normalization(row)"
   ]
  },
  {
   "cell_type": "code",
   "execution_count": 5,
   "metadata": {},
   "outputs": [
    {
     "name": "stderr",
     "output_type": "stream",
     "text": [
      "100%|████████████████████████████████████████████████████████████████████████████████| 301/301 [00:04<00:00, 62.52it/s]\n"
     ]
    }
   ],
   "source": [
    "# stem words 词性还原\n",
    "stem_words = []\n",
    "for row in tqdm.tqdm(question_text_np_array):\n",
    "    words = text_util.lemmatize_sentence(row)\n",
    "    stem_words.append(words)"
   ]
  },
  {
   "cell_type": "code",
   "execution_count": 6,
   "metadata": {},
   "outputs": [
    {
     "name": "stderr",
     "output_type": "stream",
     "text": [
      "100%|█████████████████████████████████████████████████████████████████████████████| 301/301 [00:00<00:00, 18802.38it/s]\n"
     ]
    }
   ],
   "source": [
    "# 去除标点与停用词\n",
    "filter_words = []\n",
    "for words in tqdm.tqdm(stem_words):\n",
    "    words = text_util.filter_punctuation(words)\n",
    "    words = text_util.filter_stop_word(words)\n",
    "    filter_words.append(words)"
   ]
  },
  {
   "cell_type": "markdown",
   "metadata": {},
   "source": [
    "预处理完的数据, 为如下的格式\n",
    "```\n",
    "[['I', 'pandas'], ['How', 'Quebec', 'nationalist', 'see', 'province', 'nation']]\n",
    "```"
   ]
  },
  {
   "cell_type": "code",
   "execution_count": 7,
   "metadata": {},
   "outputs": [],
   "source": [
    "# with open('../data/words.pkl', mode='wb') as f:\n",
    "#     pickle.dump(file=f, obj=filter_words)"
   ]
  },
  {
   "cell_type": "code",
   "execution_count": 8,
   "metadata": {},
   "outputs": [
    {
     "name": "stderr",
     "output_type": "stream",
     "text": [
      "100%|████████████████████████████████████████████████████████████████████████████| 301/301 [00:00<00:00, 300878.34it/s]\n"
     ]
    }
   ],
   "source": [
    "pad_and_cut_words = []\n",
    "for words in tqdm.tqdm(filter_words):\n",
    "    if len(words) < Config.SENTENCE_MAX_LEN-2:\n",
    "        words = [Config.START_CHAR] + words + [Config.PADDING_CHAR] * (Config.SENTENCE_MAX_LEN - 2 - len(words)) + [Config.END_CHAR]\n",
    "    else:\n",
    "        words = [Config.START_CHAR] + words[0, Config.SENTENCE_MAX_LEN - 2] + [Config.END_CHAR]\n",
    "    pad_and_cut_words.append(words)"
   ]
  },
  {
   "cell_type": "code",
   "execution_count": 9,
   "metadata": {},
   "outputs": [],
   "source": [
    "word2vec_util = WordEmbeddingUtil(word2vec_path=Config.WORD2VEC_PATH)"
   ]
  },
  {
   "cell_type": "code",
   "execution_count": 16,
   "metadata": {},
   "outputs": [
    {
     "name": "stderr",
     "output_type": "stream",
     "text": [
      "100%|██████████████████████████████████████████████████████████████████████████████| 301/301 [00:00<00:00, 3133.32it/s]\n"
     ]
    }
   ],
   "source": [
    "word_embedding_matrix = np.zeros([len(filter_words), Config.SENTENCE_MAX_LEN, Config.EMBEDDING_SIZE], dtype=np.float32)\n",
    "for i, words in enumerate(tqdm.tqdm(pad_and_cut_words)):\n",
    "    words_matrix = np.zeros([Config.SENTENCE_MAX_LEN, Config.EMBEDDING_SIZE], dtype=np.float32)\n",
    "    for idx, word in enumerate(words):\n",
    "        words_matrix[idx] = word2vec_util.get_word2vec_vec(word)\n",
    "    word_embedding_matrix[i] = words_matrix"
   ]
  },
  {
   "cell_type": "markdown",
   "metadata": {},
   "source": [
    "输出一个embedding矩阵，shape如(文本数, 限定最长词数, 词向量长度)  \n",
    "eg. (4396, 50, 300)"
   ]
  },
  {
   "cell_type": "code",
   "execution_count": 13,
   "metadata": {},
   "outputs": [],
   "source": [
    "# np.save('../data/word2vec_martix.npy', word_embedding_matrix)"
   ]
  }
 ],
 "metadata": {
  "kernelspec": {
   "display_name": "Python 3",
   "language": "python",
   "name": "python3"
  },
  "language_info": {
   "codemirror_mode": {
    "name": "ipython",
    "version": 3
   },
   "file_extension": ".py",
   "mimetype": "text/x-python",
   "name": "python",
   "nbconvert_exporter": "python",
   "pygments_lexer": "ipython3",
   "version": "3.6.5"
  }
 },
 "nbformat": 4,
 "nbformat_minor": 2
}
